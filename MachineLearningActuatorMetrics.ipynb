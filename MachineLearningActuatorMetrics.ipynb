{
 "cells": [
  {
   "cell_type": "markdown",
   "metadata": {},
   "source": [
    "## Probably Distribution of actuator metrics\n",
    "### Actuator metrics endpoint returns a lot of details on each call and it's hard to make sense of all the details just by looking at the data unless there is a clear anomaly. Like say a response time of 14x in an application where average response time is x. And it's even harder to correlate data just by looking, for example a higher thread count should result in higher memory consumption. To solve this problem we can use multivariate gaussian probabilty distribution.\n",
    "So the idea is to capture actuator metrics over a long period of time and then identifying the parameters which can be used to identify probability of a single call to actuator metrics. And then analysing these low probability results to find actual anomalies.\n",
    "Once we have a good number of actual anomalies, we can feed them to a neural network, and then this neural network will be responsible to find out the actual anomalies.\n",
    "\n",
    "For the purpose of a POC I created a rest endpoint in a spring boot app, which was doing some IO operation and then hit this endpoint with different number of threads via a jmeter script for about 8 hours. And another service kept on hitting the metrics endpoint and kept persisting it in a db. This data is just to show how probability calculations can be done on metrics data and is not a representative of producation data."
   ]
  },
  {
   "cell_type": "code",
   "execution_count": 1,
   "metadata": {},
   "outputs": [],
   "source": [
    "import numpy as np\n",
    "import matplotlib.pyplot as plt\n",
    "import scipy\n",
    "from scipy.stats import multivariate_normal\n",
    "%matplotlib inline"
   ]
  },
  {
   "cell_type": "markdown",
   "metadata": {},
   "source": [
    "Actuator data collected over time has been added in a csv file, the columns that are flushed to csv file are mem, mem_free, heap_committed, heap_init, heap_used, heap, nonheap_committed, nonheap_init, nonheap_used, threads_peak, threads_total_started, threads, classes, classes_loaded, gc_ps_scavenge_count, gc_ps_scavenge_time, gc_ps_marksweep_count, gc_ps_marksweep_time, gauge_response_test. Here we have excluded columns which are linearly increasing or which are constant like application uptime or available memory etc. \n",
    "Lets load this data in a numpy array."
   ]
  },
  {
   "cell_type": "code",
   "execution_count": 210,
   "metadata": {},
   "outputs": [
    {
     "name": "stdout",
     "output_type": "stream",
     "text": [
      "263693\n",
      "(776, 19)\n"
     ]
    }
   ],
   "source": [
    "X = np.genfromtxt ('ActuatorData.csv', delimiter=\",\", dtype=int)\n",
    "print(X[0,0])\n",
    "print (X.shape)"
   ]
  },
  {
   "cell_type": "markdown",
   "metadata": {},
   "source": [
    "One of the important things to consider while using multivariate or regular Gaussian anomaly detection is to make sure that we are using data points which roughly follow Gaussian/Normal distribution, i.e. mean value will have the maximum occurences and than occurences will be gradually decreasing on the left and right of mean. Generally when huge amount of data is collected, a lot of datapoints tend to follow Normal distrbution because of Central limit theorem. And if a datapoint is not following Gaussian distribution we can use varios techniques like taking logarithmic to make that datapoint Gaussian. But for the purpose of this study we are only going to take datapoints which are already approximately Gaussain. Lets take a look at certain datapoints by plotting a histogram."
   ]
  },
  {
   "cell_type": "code",
   "execution_count": 3,
   "metadata": {},
   "outputs": [
    {
     "data": {
      "text/plain": [
       "(array([ 55., 161., 212., 180.,  81.,  43.,  24.,   9.,   2.,   2.,   0.,\n",
       "          1.,   0.,   1.,   1.,   0.,   0.,   0.,   1.,   1.,   0.,   0.,\n",
       "          0.,   0.,   1.,   0.,   0.,   0.,   0.,   1.]),\n",
       " array([136164. , 145140.3, 154116.6, 163092.9, 172069.2, 181045.5,\n",
       "        190021.8, 198998.1, 207974.4, 216950.7, 225927. , 234903.3,\n",
       "        243879.6, 252855.9, 261832.2, 270808.5, 279784.8, 288761.1,\n",
       "        297737.4, 306713.7, 315690. , 324666.3, 333642.6, 342618.9,\n",
       "        351595.2, 360571.5, 369547.8, 378524.1, 387500.4, 396476.7,\n",
       "        405453. ]),\n",
       " <a list of 30 Patch objects>)"
      ]
     },
     "execution_count": 3,
     "metadata": {},
     "output_type": "execute_result"
    },
    {
     "data": {
      "image/png": "[encoded data removed]",
      "text/plain": [
       "<Figure size 432x288 with 1 Axes>"
      ]
     },
     "metadata": {
      "needs_background": "light"
     },
     "output_type": "display_data"
    }
   ],
   "source": [
    "# plotting histogram for memory\n",
    "plt.hist(X[:,0], bins=30)"
   ]
  },
  {
   "cell_type": "code",
   "execution_count": 4,
   "metadata": {},
   "outputs": [
    {
     "data": {
      "text/plain": [
       "(array([11., 19., 26., 37., 56., 49., 73., 85., 47., 64., 48., 70., 64.,\n",
       "        34., 26., 23., 10., 14.,  4.,  3.,  5.,  2.,  1.,  1.,  0.,  1.,\n",
       "         1.,  0.,  0.,  2.]),\n",
       " array([  1532.,   6016.,  10500.,  14984.,  19468.,  23952.,  28436.,\n",
       "         32920.,  37404.,  41888.,  46372.,  50856.,  55340.,  59824.,\n",
       "         64308.,  68792.,  73276.,  77760.,  82244.,  86728.,  91212.,\n",
       "         95696., 100180., 104664., 109148., 113632., 118116., 122600.,\n",
       "        127084., 131568., 136052.]),\n",
       " <a list of 30 Patch objects>)"
      ]
     },
     "execution_count": 4,
     "metadata": {},
     "output_type": "execute_result"
    },
    {
     "data": {
      "image/png": "[encoded data removed]",
      "text/plain": [
       "<Figure size 432x288 with 1 Axes>"
      ]
     },
     "metadata": {
      "needs_background": "light"
     },
     "output_type": "display_data"
    }
   ],
   "source": [
    "# plotting hist for mem_free\n",
    "plt.hist(X[:,1], bins=30)"
   ]
  },
  {
   "cell_type": "markdown",
   "metadata": {},
   "source": [
    "Above distribution is still not a very good Gaussian distribution but considering the fact that data is generated by a load simulation instead of actual prod data, we are going to consider this data point."
   ]
  },
  {
   "cell_type": "code",
   "execution_count": 5,
   "metadata": {},
   "outputs": [
    {
     "data": {
      "text/plain": [
       "(array([ 55., 155., 226., 172.,  84.,  40.,  25.,   8.,   2.,   2.,   0.,\n",
       "          1.,   0.,   1.,   1.,   0.,   0.,   0.,   1.,   1.,   0.,   0.,\n",
       "          0.,   0.,   1.,   0.,   0.,   0.,   0.,   1.]),\n",
       " array([ 79360.,  88320.,  97280., 106240., 115200., 124160., 133120.,\n",
       "        142080., 151040., 160000., 168960., 177920., 186880., 195840.,\n",
       "        204800., 213760., 222720., 231680., 240640., 249600., 258560.,\n",
       "        267520., 276480., 285440., 294400., 303360., 312320., 321280.,\n",
       "        330240., 339200., 348160.]),\n",
       " <a list of 30 Patch objects>)"
      ]
     },
     "execution_count": 5,
     "metadata": {},
     "output_type": "execute_result"
    },
    {
     "data": {
      "image/png": "[encoded data removed]",
      "text/plain": [
       "<Figure size 432x288 with 1 Axes>"
      ]
     },
     "metadata": {
      "needs_background": "light"
     },
     "output_type": "display_data"
    }
   ],
   "source": [
    "#heap_committed\n",
    "plt.hist(X[:,2], bins=30)"
   ]
  },
  {
   "cell_type": "code",
   "execution_count": 6,
   "metadata": {},
   "outputs": [
    {
     "data": {
      "text/plain": [
       "(array([  0.,   0.,   0.,   0.,   0.,   0.,   0.,   0.,   0.,   0.,   0.,\n",
       "          0.,   0.,   0.,   0., 776.,   0.,   0.,   0.,   0.,   0.,   0.,\n",
       "          0.,   0.,   0.,   0.,   0.,   0.,   0.,   0.]),\n",
       " array([65535.5       , 65535.53333333, 65535.56666667, 65535.6       ,\n",
       "        65535.63333333, 65535.66666667, 65535.7       , 65535.73333333,\n",
       "        65535.76666667, 65535.8       , 65535.83333333, 65535.86666667,\n",
       "        65535.9       , 65535.93333333, 65535.96666667, 65536.        ,\n",
       "        65536.03333333, 65536.06666667, 65536.1       , 65536.13333333,\n",
       "        65536.16666667, 65536.2       , 65536.23333333, 65536.26666667,\n",
       "        65536.3       , 65536.33333333, 65536.36666667, 65536.4       ,\n",
       "        65536.43333333, 65536.46666667, 65536.5       ]),\n",
       " <a list of 30 Patch objects>)"
      ]
     },
     "execution_count": 6,
     "metadata": {},
     "output_type": "execute_result"
    },
    {
     "data": {
      "image/png": "[encoded data removed]",
      "text/plain": [
       "<Figure size 432x288 with 1 Axes>"
      ]
     },
     "metadata": {
      "needs_background": "light"
     },
     "output_type": "display_data"
    }
   ],
   "source": [
    "#heap_init\n",
    "plt.hist(X[:,3], bins=30)"
   ]
  },
  {
   "cell_type": "markdown",
   "metadata": {},
   "source": [
    "This is a constant, we are not going to consider this in probability calculations."
   ]
  },
  {
   "cell_type": "code",
   "execution_count": 7,
   "metadata": {},
   "outputs": [
    {
     "data": {
      "text/plain": [
       "(array([ 6., 25., 74., 74., 98., 94., 87., 99., 73., 49., 38., 18., 18.,\n",
       "        10.,  2.,  6.,  0.,  0.,  0.,  1.,  1.,  0.,  0.,  0.,  1.,  0.,\n",
       "         0.,  0.,  0.,  2.]),\n",
       " array([ 23357. ,  29801.4,  36245.8,  42690.2,  49134.6,  55579. ,\n",
       "         62023.4,  68467.8,  74912.2,  81356.6,  87801. ,  94245.4,\n",
       "        100689.8, 107134.2, 113578.6, 120023. , 126467.4, 132911.8,\n",
       "        139356.2, 145800.6, 152245. , 158689.4, 165133.8, 171578.2,\n",
       "        178022.6, 184467. , 190911.4, 197355.8, 203800.2, 210244.6,\n",
       "        216689. ]),\n",
       " <a list of 30 Patch objects>)"
      ]
     },
     "execution_count": 7,
     "metadata": {},
     "output_type": "execute_result"
    },
    {
     "data": {
      "image/png": "[encoded data removed]",
      "text/plain": [
       "<Figure size 432x288 with 1 Axes>"
      ]
     },
     "metadata": {
      "needs_background": "light"
     },
     "output_type": "display_data"
    }
   ],
   "source": [
    "#heap_used\n",
    "plt.hist(X[:,4], bins=30)"
   ]
  },
  {
   "cell_type": "code",
   "execution_count": 10,
   "metadata": {},
   "outputs": [
    {
     "data": {
      "text/plain": [
       "(array([  0.,   0.,   0.,   0.,   0.,   0.,   0.,   0.,   0.,   0.,   0.,\n",
       "          0.,   0.,   0.,   0., 776.,   0.,   0.,   0.,   0.,   0.,   0.,\n",
       "          0.,   0.,   0.,   0.,   0.,   0.,   0.,   0.]),\n",
       " array([913919.5       , 913919.53333333, 913919.56666667, 913919.6       ,\n",
       "        913919.63333333, 913919.66666667, 913919.7       , 913919.73333333,\n",
       "        913919.76666667, 913919.8       , 913919.83333333, 913919.86666667,\n",
       "        913919.9       , 913919.93333333, 913919.96666667, 913920.        ,\n",
       "        913920.03333333, 913920.06666667, 913920.1       , 913920.13333333,\n",
       "        913920.16666667, 913920.2       , 913920.23333333, 913920.26666667,\n",
       "        913920.3       , 913920.33333333, 913920.36666667, 913920.4       ,\n",
       "        913920.43333333, 913920.46666667, 913920.5       ]),\n",
       " <a list of 30 Patch objects>)"
      ]
     },
     "execution_count": 10,
     "metadata": {},
     "output_type": "execute_result"
    },
    {
     "data": {
      "image/png": "[encoded data removed]",
      "text/plain": [
       "<Figure size 432x288 with 1 Axes>"
      ]
     },
     "metadata": {
      "needs_background": "light"
     },
     "output_type": "display_data"
    }
   ],
   "source": [
    "#heap\n",
    "plt.hist(X[:,5], bins=30)"
   ]
  },
  {
   "cell_type": "code",
   "execution_count": 11,
   "metadata": {},
   "outputs": [
    {
     "data": {
      "text/plain": [
       "(array([  1.,   0.,   0.,   0.,   0.,   5.,   0.,   0.,   0.,   0.,   0.,\n",
       "          0.,  20.,   0.,   0.,   0.,   0.,   0.,   5.,   0.,   0.,   0.,\n",
       "        481.,   0.,   0.,   0.,   0.,   0.,   0., 264.]),\n",
       " array([60032.        , 60065.33333333, 60098.66666667, 60132.        ,\n",
       "        60165.33333333, 60198.66666667, 60232.        , 60265.33333333,\n",
       "        60298.66666667, 60332.        , 60365.33333333, 60398.66666667,\n",
       "        60432.        , 60465.33333333, 60498.66666667, 60532.        ,\n",
       "        60565.33333333, 60598.66666667, 60632.        , 60665.33333333,\n",
       "        60698.66666667, 60732.        , 60765.33333333, 60798.66666667,\n",
       "        60832.        , 60865.33333333, 60898.66666667, 60932.        ,\n",
       "        60965.33333333, 60998.66666667, 61032.        ]),\n",
       " <a list of 30 Patch objects>)"
      ]
     },
     "execution_count": 11,
     "metadata": {},
     "output_type": "execute_result"
    },
    {
     "data": {
      "image/png": "[encoded data removed]",
      "text/plain": [
       "<Figure size 432x288 with 1 Axes>"
      ]
     },
     "metadata": {
      "needs_background": "light"
     },
     "output_type": "display_data"
    }
   ],
   "source": [
    "#nonheap_committed\n",
    "plt.hist(X[:,6], bins=30)"
   ]
  },
  {
   "cell_type": "code",
   "execution_count": 12,
   "metadata": {},
   "outputs": [
    {
     "data": {
      "text/plain": [
       "(array([  0.,   0.,   0.,   0.,   0.,   0.,   0.,   0.,   0.,   0.,   0.,\n",
       "          0.,   0.,   0.,   0., 776.,   0.,   0.,   0.,   0.,   0.,   0.,\n",
       "          0.,   0.,   0.,   0.,   0.,   0.,   0.,   0.]),\n",
       " array([2495.5       , 2495.53333333, 2495.56666667, 2495.6       ,\n",
       "        2495.63333333, 2495.66666667, 2495.7       , 2495.73333333,\n",
       "        2495.76666667, 2495.8       , 2495.83333333, 2495.86666667,\n",
       "        2495.9       , 2495.93333333, 2495.96666667, 2496.        ,\n",
       "        2496.03333333, 2496.06666667, 2496.1       , 2496.13333333,\n",
       "        2496.16666667, 2496.2       , 2496.23333333, 2496.26666667,\n",
       "        2496.3       , 2496.33333333, 2496.36666667, 2496.4       ,\n",
       "        2496.43333333, 2496.46666667, 2496.5       ]),\n",
       " <a list of 30 Patch objects>)"
      ]
     },
     "execution_count": 12,
     "metadata": {},
     "output_type": "execute_result"
    },
    {
     "data": {
      "image/png": "[encoded data removed]",
      "text/plain": [
       "<Figure size 432x288 with 1 Axes>"
      ]
     },
     "metadata": {
      "needs_background": "light"
     },
     "output_type": "display_data"
    }
   ],
   "source": [
    "#nonheap_committed\n",
    "plt.hist(X[:,7], bins=30)"
   ]
  },
  {
   "cell_type": "code",
   "execution_count": 16,
   "metadata": {},
   "outputs": [
    {
     "data": {
      "text/plain": [
       "(array([ 12.,  45.,  17.,  69.,  57.,  15.,  42.,  40.,  12.,  69.,  88.,\n",
       "         55., 250.,   0.,   0.,   0.,   0.,   0.,   1.,   1.,   0.,   1.,\n",
       "          0.,   0.,   0.,   0.,   0.,   0.,   0.,   2.]),\n",
       " array([56543. , 56604.3, 56665.6, 56726.9, 56788.2, 56849.5, 56910.8,\n",
       "        56972.1, 57033.4, 57094.7, 57156. , 57217.3, 57278.6, 57339.9,\n",
       "        57401.2, 57462.5, 57523.8, 57585.1, 57646.4, 57707.7, 57769. ,\n",
       "        57830.3, 57891.6, 57952.9, 58014.2, 58075.5, 58136.8, 58198.1,\n",
       "        58259.4, 58320.7, 58382. ]),\n",
       " <a list of 30 Patch objects>)"
      ]
     },
     "execution_count": 16,
     "metadata": {},
     "output_type": "execute_result"
    },
    {
     "data": {
      "image/png": "[encoded data removed]",
      "text/plain": [
       "<Figure size 432x288 with 1 Axes>"
      ]
     },
     "metadata": {
      "needs_background": "light"
     },
     "output_type": "display_data"
    }
   ],
   "source": [
    "#nonheap_committed\n",
    "plt.hist(X[:,8], bins=30)"
   ]
  },
  {
   "cell_type": "code",
   "execution_count": 17,
   "metadata": {},
   "outputs": [
    {
     "data": {
      "text/plain": [
       "(array([ 29.,   0.,   0.,   0.,   0.,   1.,   6.,  50.,   0.,  23.,   0.,\n",
       "          0.,   0.,   0.,   0.,   0.,   1.,   0.,   0.,   0.,   0.,   0.,\n",
       "        119.,   0.,   0.,   0.,   0.,   0.,   0., 547.]),\n",
       " array([37. , 38.6, 40.2, 41.8, 43.4, 45. , 46.6, 48.2, 49.8, 51.4, 53. ,\n",
       "        54.6, 56.2, 57.8, 59.4, 61. , 62.6, 64.2, 65.8, 67.4, 69. , 70.6,\n",
       "        72.2, 73.8, 75.4, 77. , 78.6, 80.2, 81.8, 83.4, 85. ]),\n",
       " <a list of 30 Patch objects>)"
      ]
     },
     "execution_count": 17,
     "metadata": {},
     "output_type": "execute_result"
    },
    {
     "data": {
      "image/png": "[encoded data removed]",
      "text/plain": [
       "<Figure size 432x288 with 1 Axes>"
      ]
     },
     "metadata": {
      "needs_background": "light"
     },
     "output_type": "display_data"
    }
   ],
   "source": [
    "#nonheap_committed\n",
    "plt.hist(X[:,9], bins=30)"
   ]
  },
  {
   "cell_type": "code",
   "execution_count": 18,
   "metadata": {},
   "outputs": [
    {
     "data": {
      "text/plain": [
       "(array([ 29.,   0.,   0.,   0.,   1.,   6.,  50.,   0.,  23.,   0.,   0.,\n",
       "          0.,   0.,   0.,   0.,   1.,   0.,   0.,   0.,   0., 119.,   0.,\n",
       "          0.,   0.,   0.,   0.,   0., 205.,   0., 342.]),\n",
       " array([42.        , 43.76666667, 45.53333333, 47.3       , 49.06666667,\n",
       "        50.83333333, 52.6       , 54.36666667, 56.13333333, 57.9       ,\n",
       "        59.66666667, 61.43333333, 63.2       , 64.96666667, 66.73333333,\n",
       "        68.5       , 70.26666667, 72.03333333, 73.8       , 75.56666667,\n",
       "        77.33333333, 79.1       , 80.86666667, 82.63333333, 84.4       ,\n",
       "        86.16666667, 87.93333333, 89.7       , 91.46666667, 93.23333333,\n",
       "        95.        ]),\n",
       " <a list of 30 Patch objects>)"
      ]
     },
     "execution_count": 18,
     "metadata": {},
     "output_type": "execute_result"
    },
    {
     "data": {
      "image/png": "[encoded data removed]",
      "text/plain": [
       "<Figure size 432x288 with 1 Axes>"
      ]
     },
     "metadata": {
      "needs_background": "light"
     },
     "output_type": "display_data"
    }
   ],
   "source": [
    "#nonheap_committed\n",
    "plt.hist(X[:,10], bins=30)"
   ]
  },
  {
   "cell_type": "code",
   "execution_count": 19,
   "metadata": {},
   "outputs": [
    {
     "data": {
      "text/plain": [
       "(array([  1.,   0.,   0.,   0.,   0., 740.,   0.,   0.,   0.,   0.,   0.,\n",
       "          0.,   0.,   0.,   0.,   0.,   0.,   0.,   0.,   0.,   0.,   0.,\n",
       "          0.,   0.,   0.,   0.,   0.,   0.,   0.,  35.]),\n",
       " array([6202., 6204., 6206., 6208., 6210., 6212., 6214., 6216., 6218.,\n",
       "        6220., 6222., 6224., 6226., 6228., 6230., 6232., 6234., 6236.,\n",
       "        6238., 6240., 6242., 6244., 6246., 6248., 6250., 6252., 6254.,\n",
       "        6256., 6258., 6260., 6262.]),\n",
       " <a list of 30 Patch objects>)"
      ]
     },
     "execution_count": 19,
     "metadata": {},
     "output_type": "execute_result"
    },
    {
     "data": {
      "image/png": "[encoded data removed]",
      "text/plain": [
       "<Figure size 432x288 with 1 Axes>"
      ]
     },
     "metadata": {
      "needs_background": "light"
     },
     "output_type": "display_data"
    }
   ],
   "source": [
    "#nonheap_committed\n",
    "plt.hist(X[:,12], bins=30)"
   ]
  },
  {
   "cell_type": "code",
   "execution_count": 23,
   "metadata": {},
   "outputs": [
    {
     "data": {
      "text/plain": [
       "(array([64., 41., 19., 25., 16., 22., 15., 18., 24., 46., 36., 29., 22.,\n",
       "        28., 23., 22., 22., 16., 23., 18., 21., 23., 30., 25., 30., 32.,\n",
       "        37., 11., 14., 24.]),\n",
       " array([  1.        ,   5.53333333,  10.06666667,  14.6       ,\n",
       "         19.13333333,  23.66666667,  28.2       ,  32.73333333,\n",
       "         37.26666667,  41.8       ,  46.33333333,  50.86666667,\n",
       "         55.4       ,  59.93333333,  64.46666667,  69.        ,\n",
       "         73.53333333,  78.06666667,  82.6       ,  87.13333333,\n",
       "         91.66666667,  96.2       , 100.73333333, 105.26666667,\n",
       "        109.8       , 114.33333333, 118.86666667, 123.4       ,\n",
       "        127.93333333, 132.46666667, 137.        ]),\n",
       " <a list of 30 Patch objects>)"
      ]
     },
     "execution_count": 23,
     "metadata": {},
     "output_type": "execute_result"
    },
    {
     "data": {
      "image/png": "[encoded data removed]",
      "text/plain": [
       "<Figure size 432x288 with 1 Axes>"
      ]
     },
     "metadata": {
      "needs_background": "light"
     },
     "output_type": "display_data"
    }
   ],
   "source": [
    "#nonheap_committed\n",
    "plt.hist(X[:,16], bins=30)"
   ]
  },
  {
   "cell_type": "code",
   "execution_count": 27,
   "metadata": {},
   "outputs": [
    {
     "data": {
      "text/plain": [
       "(array([ 47.,  76.,  94.,  94., 140., 132.,  84.,  66.,  17.,  13.,   4.,\n",
       "          2.,   1.,   2.,   1.,   1.,   0.,   1.,   0.,   0.,   0.,   0.,\n",
       "          0.,   0.,   0.,   0.,   0.,   0.,   0.,   1.]),\n",
       " array([  0.        ,  11.53333333,  23.06666667,  34.6       ,\n",
       "         46.13333333,  57.66666667,  69.2       ,  80.73333333,\n",
       "         92.26666667, 103.8       , 115.33333333, 126.86666667,\n",
       "        138.4       , 149.93333333, 161.46666667, 173.        ,\n",
       "        184.53333333, 196.06666667, 207.6       , 219.13333333,\n",
       "        230.66666667, 242.2       , 253.73333333, 265.26666667,\n",
       "        276.8       , 288.33333333, 299.86666667, 311.4       ,\n",
       "        322.93333333, 334.46666667, 346.        ]),\n",
       " <a list of 30 Patch objects>)"
      ]
     },
     "execution_count": 27,
     "metadata": {},
     "output_type": "execute_result"
    },
    {
     "data": {
      "image/png": "[encoded data removed]",
      "text/plain": [
       "<Figure size 432x288 with 1 Axes>"
      ]
     },
     "metadata": {
      "needs_background": "light"
     },
     "output_type": "display_data"
    }
   ],
   "source": [
    "#nonheap_committed\n",
    "plt.hist(X[:,18], bins=30)"
   ]
  },
  {
   "cell_type": "raw",
   "metadata": {},
   "source": [
    "In a real prod environment we might get more properties like threads etc. will follow a Normal distribution. \n",
    "\n",
    "For this exampe we are going to work with mem, mem_free, heap_committed, heap_used and response_time. Let's add these parameters to a new array."
   ]
  },
  {
   "cell_type": "code",
   "execution_count": 110,
   "metadata": {},
   "outputs": [
    {
     "name": "stdout",
     "output_type": "stream",
     "text": [
      "[263693 119984 205312  85327     69]\n",
      "(776, 5)\n"
     ]
    }
   ],
   "source": [
    "Z = X[:,0:3]\n",
    "U = np.zeros((776,1), dtype=int)\n",
    "U[:,0] =  X[:,4]\n",
    "Z = np.append(Z, U, axis=1)\n",
    "U[:,0] =  X[:,18]\n",
    "Z = np.append(Z, U, axis=1)\n",
    "print (Z[0,:])\n",
    "print (Z.shape)"
   ]
  },
  {
   "cell_type": "markdown",
   "metadata": {},
   "source": [
    "For calculating probability of a data row(an actuator instance) we have two methods.\n",
    "1) Probability of a given mem_free will be \n",
    "(1/√2*√Π*σ)*e^(-(x-μ)/(2*σ^2)) \n",
    "where x is mem_free, μ is mean of all mem_free values, and σ is variance.\n",
    "So to calculate probability of a given actuator metrics result we will need P(mem_free)*P(heap_used)*...*P(response).\n",
    "The problem with this method is it does not consider relation between multiple variables.\n",
    "Hence we are going to use multivariate normal distribution\n",
    "P(actuator result) = (1/((2Π)^n/2)*|∑|)*e^(-.5*(x-μ)′*∑^-1*(x-μ))\n",
    "where ∑ = covariance matrix, |∑| = detrminant of covariance matrix, μ= vector with all means for all datapoints, n= number of datapoints(in our case 5)\n",
    "Lets write methods to calculate mean, variance, covariance matrix and probability."
   ]
  },
  {
   "cell_type": "code",
   "execution_count": 29,
   "metadata": {},
   "outputs": [],
   "source": [
    "def getMeanAndVariance(X):\n",
    "    (m,n) = X.shape\n",
    "    # initializing mu(mean) and sigma2(variance)\n",
    "    mu = np.zeros((n,1))\n",
    "    sigma2 = np.zeros((n,1))\n",
    "    # mean\n",
    "    mu = np.sum(X, axis=0)/m\n",
    "    tempSigma = X - mu\n",
    "    tempSigma2 = np.power(tempSigma, 2)\n",
    "    sigma2 = np.sum(tempSigma2, axis=0)/m\n",
    "    return (mu, sigma2)"
   ]
  },
  {
   "cell_type": "code",
   "execution_count": 30,
   "metadata": {},
   "outputs": [],
   "source": [
    "def getCovariance(X):\n",
    "    return np.cov(X, rowvar=False)"
   ]
  },
  {
   "cell_type": "code",
   "execution_count": 36,
   "metadata": {},
   "outputs": [],
   "source": [
    "def calculateProbabilities(X, mean, cov):\n",
    "    # var = multivariate_normal(mean, cov, allow_singular=True)\n",
    "    var = multivariate_normal(mean, cov)\n",
    "    p = np.zeros((len(X),1))\n",
    "    for i in range(len(X)):\n",
    "        p[i] = var.pdf(X[i])\n",
    "    return p"
   ]
  },
  {
   "cell_type": "markdown",
   "metadata": {},
   "source": [
    "Let's calulate probability for all entries."
   ]
  },
  {
   "cell_type": "code",
   "execution_count": null,
   "metadata": {},
   "outputs": [],
   "source": [
    "(mean, var1) = getMeanAndVariance(Z)\n",
    "cov = getCovariance(Z)\n",
    "p = calculateProbabilities(Z, mean, cov)\n",
    "# print (mean)\n",
    "# print (cov)\n",
    "# print (p.size)\n",
    "p_sort = np.sort(p, axis=0)\n",
    "Y = np.zeros((776,1), dtype=int)\n",
    "for i in range(len(X)):\n",
    "    if (p[i]<=p_sort[60,0]):\n",
    "        Y[i] = 1"
   ]
  },
  {
   "cell_type": "markdown",
   "metadata": {},
   "source": [
    "Now with probabilities, we can check the actuator data with low probabilities, we can check application logs around the times when probavility is low and can actually analyse why we have reached to a low probability instance, whether this instacne is actually an anomaly or not. Anomalies can be of various types, for example high response time, despite low active threads or low memory consumption and they might be quite hard to found directly. \n",
    "\n",
    "Once we have found enough anomalies, say a 1000, for a production system, we can follow either of the below two approaches\n",
    "\n",
    "1) We can revisit and calculate a threshhold probability below which an instance is anomaly and above which instance is regular and system is working fine. And then whenever we find an instance with probability lower than the threshhold we can cosider it as an anomaly.\n",
    "2) We can feed the data to a classification algorithm like logistic regression, SVM or a neural netwrok\n",
    "\n",
    "For the purpose of this POC I am going to pick 60 instances(approx 10%) with lowest probabilities and consider them as anomalies. This is just for POC, in an actual production system, much less than 1% instances will be actual anomalies.\n",
    "\n",
    "After getting sufficient anomalies, we can also run the data through a neural network to generate an algorithm to find anomalies.\n",
    "\n",
    "Let's create a new array Y, which will be the labels for supervised learning algorithm. Here I am marking low probability instances as 1, and high probability instances as 0. "
   ]
  },
  {
   "cell_type": "code",
   "execution_count": null,
   "metadata": {},
   "outputs": [],
   "source": [
    "Below is a sample neural network implementation based on Keras library provided by tensorflow. "
   ]
  },
  {
   "cell_type": "code",
   "execution_count": 179,
   "metadata": {},
   "outputs": [],
   "source": [
    "import tensorflow as tf\n",
    "from tensorflow import keras"
   ]
  },
  {
   "cell_type": "code",
   "execution_count": 202,
   "metadata": {},
   "outputs": [],
   "source": [
    "model = keras.Sequential([\n",
    "    # keras.layers.Dense(105, input_shape=(19,), activation=tf.nn.relu), #this row can be trained when we are training whole data\n",
    "    keras.layers.Dense(105, input_shape=(5,), activation=tf.nn.relu),\n",
    "    keras.layers.Dense(10, activation=tf.nn.relu),\n",
    "    keras.layers.Dense(1, activation=tf.nn.sigmoid)\n",
    "])"
   ]
  },
  {
   "cell_type": "code",
   "execution_count": 203,
   "metadata": {},
   "outputs": [],
   "source": [
    "model.compile(optimizer='sgd', \n",
    "              loss='binary_crossentropy',\n",
    "              metrics=['accuracy'])"
   ]
  },
  {
   "cell_type": "code",
   "execution_count": 204,
   "metadata": {},
   "outputs": [
    {
     "name": "stdout",
     "output_type": "stream",
     "text": [
      "Epoch 1/5\n",
      "776/776 [==============================] - 2s 3ms/step - loss: 4.2624 - acc: 0.7332\n",
      "Epoch 2/5\n",
      "776/776 [==============================] - 0s 92us/step - loss: 1.2670 - acc: 0.9214\n",
      "Epoch 3/5\n",
      "776/776 [==============================] - 0s 105us/step - loss: 1.2670 - acc: 0.9214\n",
      "Epoch 4/5\n",
      "776/776 [==============================] - 0s 103us/step - loss: 1.2670 - acc: 0.9214\n",
      "Epoch 5/5\n",
      "776/776 [==============================] - 0s 114us/step - loss: 1.2670 - acc: 0.9214\n"
     ]
    },
    {
     "data": {
      "text/plain": [
       "<tensorflow.python.keras.callbacks.History at 0x1fa684ac048>"
      ]
     },
     "execution_count": 204,
     "metadata": {},
     "output_type": "execute_result"
    }
   ],
   "source": [
    "model.fit(Z, Y, epochs=5)"
   ]
  },
  {
   "cell_type": "code",
   "execution_count": 208,
   "metadata": {},
   "outputs": [
    {
     "name": "stdout",
     "output_type": "stream",
     "text": [
      "[[0.]]\n"
     ]
    }
   ],
   "source": [
    "new_ac_instance = np.ones((1,5))\n",
    "prediction = model.predict(new_ac_instance)\n",
    "print (prediction)"
   ]
  },
  {
   "cell_type": "markdown",
   "metadata": {},
   "source": [
    "You can see above we have achieved 92% accuracy, which is a terrible accuracy for the given system. Rather for such kind of problems where labels with value 1 which be much lower than labels with value 0, accuracy alone is not a good performance parameter, we have to consider precision, recall and F1 score etc.\n",
    "\n",
    "Also above neural network is just a basic implementation, after getting sufficient data, we will have to optimize it on the basis of bias and overfitting. We might need to add regularization as well."
   ]
  }
 ],
 "metadata": {
  "kernelspec": {
   "display_name": "Python 3",
   "language": "python",
   "name": "python3"
  },
  "language_info": {
   "codemirror_mode": {
    "name": "ipython",
    "version": 3
   },
   "file_extension": ".py",
   "mimetype": "text/x-python",
   "name": "python",
   "nbconvert_exporter": "python",
   "pygments_lexer": "ipython3",
   "version": "3.6.8"
  }
 },
 "nbformat": 4,
 "nbformat_minor": 2
}
