{
 "cells": [
  {
   "cell_type": "markdown",
   "metadata": {},
   "source": [
    "## Probably Distribution of actuator metrics\n",
    "### Actuator metrics endpoint returns a lot of details on each call and it's hard to make sense of all the details just by looking at the data unless there is a clear anomaly. Like say a response time of 14x in an application where average response time is x. And it's even harder to correlate data just by looking, for example a higher thread count should result in higher memory consumption. To solve this problem we can use multivariate gaussian probabilty distribution.\n",
    "So the idea is to capture actuator metrics over a long period of time and then identifying the parameters which can be used to identify probability of a single call to actuator metrics. And then analysing these low probability results to find actual anomalies.\n",
    "Once we have a good number of actual anomalies, we can feed them to a neural network, and then this neural network will be responsible to find out the actual anomalies.\n",
    "\n",
    "For the purpose of a POC I created a rest endpoint in a spring boot app, which was doing some IO operation and then hit this endpoint with different number of threads via a jmeter script for about 8 hours. And another service kept on hitting the metrics endpoint and kept persisting it in a db. This data is just to show how probability calculations can be done on metrics data and is not a representative of producation data."
   ]
  },
  {
   "cell_type": "code",
   "execution_count": 1,
   "metadata": {},
   "outputs": [],
   "source": [
    "import numpy as np\n",
    "import matplotlib.pyplot as plt\n",
    "import scipy\n",
    "from scipy.stats import multivariate_normal\n",
    "%matplotlib inline"
   ]
  },
  {
   "cell_type": "markdown",
   "metadata": {},
   "source": [
    "Actuator data collected over time has been added in a csv file, the columns that are flushed to csv file are mem, mem_free, heap_committed, heap_init, heap_used, heap, nonheap_committed, nonheap_init, nonheap_used, threads_peak, threads_total_started, threads, classes, classes_loaded, gc_ps_scavenge_count, gc_ps_scavenge_time, gc_ps_marksweep_count, gc_ps_marksweep_time, gauge_response_test. Here we have excluded columns which are linearly increasing or which are constant like application uptime or available memory etc. \n",
    "Lets load this data in a numpy array."
   ]
  },
  {
   "cell_type": "code",
   "execution_count": 3,
   "metadata": {},
   "outputs": [
    {
     "name": "stdout",
     "output_type": "stream",
     "text": [
      "(1133, 19)\n",
      "-1\n"
     ]
    }
   ],
   "source": [
    "X = np.genfromtxt ('ActuatorData.csv', delimiter=\",\", dtype=int)\n",
    "X[0,0] = 126438\n",
    "print (X.shape)"
   ]
  },
  {
   "cell_type": "markdown",
   "metadata": {},
   "source": [
    "One of the important things to consider while using multivariate or regular Gaussian anomaly detection is to make sure that we are using data points which roughly follow Gaussian/Normal distribution, i.e. mean value will have the maximum occurences and than occurences will be gradually decreasing on the left and right of mean. Generally when huge amount of data is collected, a lot of datapoints tend to follow Normal distrbution because of Central limit theorem. And if a datapoint is not following Gaussian distribution we can use varios techniques like taking logarithmic or exponential values to make that datapoint Gaussian. But for the purpose of this study we are only going to take datapoints which are already approximately Gaussain. Lets take a look at certain datapoints by plotting a histogram."
   ]
  },
  {
   "cell_type": "code",
   "execution_count": 14,
   "metadata": {},
   "outputs": [
    {
     "data": {
      "text/plain": [
       "(array([  1.,   0.,   0.,   0.,   0.,   0.,   0.,   2.,   0.,   0., 106.,\n",
       "        268., 120.,  82., 254.,  36.,  21.,  10.,  12.,  12.,   9.,  16.,\n",
       "         10.,   9.,   5.,   9.,   7.,   9.,  91.,  44.]),\n",
       " array([-1.00000000e+00,  1.56918333e+04,  3.13846667e+04,  4.70775000e+04,\n",
       "         6.27703333e+04,  7.84631667e+04,  9.41560000e+04,  1.09848833e+05,\n",
       "         1.25541667e+05,  1.41234500e+05,  1.56927333e+05,  1.72620167e+05,\n",
       "         1.88313000e+05,  2.04005833e+05,  2.19698667e+05,  2.35391500e+05,\n",
       "         2.51084333e+05,  2.66777167e+05,  2.82470000e+05,  2.98162833e+05,\n",
       "         3.13855667e+05,  3.29548500e+05,  3.45241333e+05,  3.60934167e+05,\n",
       "         3.76627000e+05,  3.92319833e+05,  4.08012667e+05,  4.23705500e+05,\n",
       "         4.39398333e+05,  4.55091167e+05,  4.70784000e+05]),\n",
       " <a list of 30 Patch objects>)"
      ]
     },
     "execution_count": 14,
     "metadata": {},
     "output_type": "execute_result"
    },
    {
     "data": {
      "image/png": "[encoded data removed]",
      "text/plain": [
       "<Figure size 432x288 with 1 Axes>"
      ]
     },
     "metadata": {
      "needs_background": "light"
     },
     "output_type": "display_data"
    }
   ],
   "source": [
    "# plotting histogram for memory\n",
    "plt.hist(X[:,0], bins=30)"
   ]
  },
  {
   "cell_type": "code",
   "execution_count": 11,
   "metadata": {},
   "outputs": [
    {
     "data": {
      "text/plain": [
       "(array([ 26.,  71.,  92., 133., 122., 131., 255.,  78.,  34.,  28.,  15.,\n",
       "         16.,   9.,  12.,  11.,  11.,   8.,  10.,   9.,  10.,   6.,   6.,\n",
       "          4.,   3.,   8.,   5.,   3.,   3.,   6.,   8.]),\n",
       " array([  1358.        ,  13639.13333333,  25920.26666667,  38201.4       ,\n",
       "         50482.53333333,  62763.66666667,  75044.8       ,  87325.93333333,\n",
       "         99607.06666667, 111888.2       , 124169.33333333, 136450.46666667,\n",
       "        148731.6       , 161012.73333333, 173293.86666667, 185575.        ,\n",
       "        197856.13333333, 210137.26666667, 222418.4       , 234699.53333333,\n",
       "        246980.66666667, 259261.8       , 271542.93333333, 283824.06666667,\n",
       "        296105.2       , 308386.33333333, 320667.46666667, 332948.6       ,\n",
       "        345229.73333333, 357510.86666667, 369792.        ]),\n",
       " <a list of 30 Patch objects>)"
      ]
     },
     "execution_count": 11,
     "metadata": {},
     "output_type": "execute_result"
    },
    {
     "data": {
      "image/png": "[encoded data removed]",
      "text/plain": [
       "<Figure size 432x288 with 1 Axes>"
      ]
     },
     "metadata": {
      "needs_background": "light"
     },
     "output_type": "display_data"
    }
   ],
   "source": [
    "# plotting hist for mem_free\n",
    "plt.hist(X[:,1], bins=30)"
   ]
  },
  {
   "cell_type": "markdown",
   "metadata": {},
   "source": [
    "Above distribution is still not a very good Gaussian distribution but considering the fact that data is generated by a load simulation instead of actual prod data, we are going to consider this data point."
   ]
  },
  {
   "cell_type": "code",
   "execution_count": 16,
   "metadata": {},
   "outputs": [
    {
     "data": {
      "text/plain": [
       "(array([ 18.,  48., 105., 130., 125., 171., 213.,  60.,  47.,  28.,  25.,\n",
       "         22.,  13.,  10.,   9.,  10.,   8.,  11.,  11.,   7.,   6.,   8.,\n",
       "          8.,   8.,   4.,   5.,   7.,   9.,   5.,   2.]),\n",
       " array([ 23575. ,  34683.1,  45791.2,  56899.3,  68007.4,  79115.5,\n",
       "         90223.6, 101331.7, 112439.8, 123547.9, 134656. , 145764.1,\n",
       "        156872.2, 167980.3, 179088.4, 190196.5, 201304.6, 212412.7,\n",
       "        223520.8, 234628.9, 245737. , 256845.1, 267953.2, 279061.3,\n",
       "        290169.4, 301277.5, 312385.6, 323493.7, 334601.8, 345709.9,\n",
       "        356818. ]),\n",
       " <a list of 30 Patch objects>)"
      ]
     },
     "execution_count": 16,
     "metadata": {},
     "output_type": "execute_result"
    },
    {
     "data": {
      "image/png": "[encoded data removed]",
      "text/plain": [
       "<Figure size 432x288 with 1 Axes>"
      ]
     },
     "metadata": {
      "needs_background": "light"
     },
     "output_type": "display_data"
    }
   ],
   "source": [
    "#heap_used\n",
    "plt.hist(X[:,4], bins=30)"
   ]
  },
  {
   "cell_type": "code",
   "execution_count": 17,
   "metadata": {},
   "outputs": [
    {
     "data": {
      "text/plain": [
       "(array([ 13., 232.,  37., 118., 134.,  92.,  84.,  88.,  51.,  46.,  56.,\n",
       "         47.,  29.,  21.,  16.,  20.,  14.,   6.,   4.,   4.,   3.,   2.,\n",
       "          3.,   5.,   3.,   2.,   2.,   0.,   0.,   1.]),\n",
       " array([  1.        ,   6.63333333,  12.26666667,  17.9       ,\n",
       "         23.53333333,  29.16666667,  34.8       ,  40.43333333,\n",
       "         46.06666667,  51.7       ,  57.33333333,  62.96666667,\n",
       "         68.6       ,  74.23333333,  79.86666667,  85.5       ,\n",
       "         91.13333333,  96.76666667, 102.4       , 108.03333333,\n",
       "        113.66666667, 119.3       , 124.93333333, 130.56666667,\n",
       "        136.2       , 141.83333333, 147.46666667, 153.1       ,\n",
       "        158.73333333, 164.36666667, 170.        ]),\n",
       " <a list of 30 Patch objects>)"
      ]
     },
     "execution_count": 17,
     "metadata": {},
     "output_type": "execute_result"
    },
    {
     "data": {
      "image/png": "[encoded data removed]",
      "text/plain": [
       "<Figure size 432x288 with 1 Axes>"
      ]
     },
     "metadata": {
      "needs_background": "light"
     },
     "output_type": "display_data"
    }
   ],
   "source": [
    "#response\n",
    "plt.hist(X[:,18], bins=30)"
   ]
  },
  {
   "cell_type": "markdown",
   "metadata": {},
   "source": [
    "There is an early peak, but on a large dataset, response will also follow Normal dirtribution, hence we are going to consider it."
   ]
  },
  {
   "cell_type": "code",
   "execution_count": 21,
   "metadata": {},
   "outputs": [
    {
     "data": {
      "text/plain": [
       "(array([  1.,   0.,   0.,   0.,   0.,   0.,   0.,   0.,   0.,   0.,   0.,\n",
       "          0.,  18.,   4.,  18.,  36.,  52., 112.,  49.,  48.,  39.,   1.,\n",
       "         45.,  36.,  63., 217.,   1., 103.,  47., 243.]),\n",
       " array([56316.        , 56363.43333333, 56410.86666667, 56458.3       ,\n",
       "        56505.73333333, 56553.16666667, 56600.6       , 56648.03333333,\n",
       "        56695.46666667, 56742.9       , 56790.33333333, 56837.76666667,\n",
       "        56885.2       , 56932.63333333, 56980.06666667, 57027.5       ,\n",
       "        57074.93333333, 57122.36666667, 57169.8       , 57217.23333333,\n",
       "        57264.66666667, 57312.1       , 57359.53333333, 57406.96666667,\n",
       "        57454.4       , 57501.83333333, 57549.26666667, 57596.7       ,\n",
       "        57644.13333333, 57691.56666667, 57739.        ]),\n",
       " <a list of 30 Patch objects>)"
      ]
     },
     "execution_count": 21,
     "metadata": {},
     "output_type": "execute_result"
    },
    {
     "data": {
      "image/png": "[encoded data removed]",
      "text/plain": [
       "<Figure size 432x288 with 1 Axes>"
      ]
     },
     "metadata": {
      "needs_background": "light"
     },
     "output_type": "display_data"
    }
   ],
   "source": [
    "#Threads_total_started\n",
    "plt.hist(X[:,8], bins=30)"
   ]
  },
  {
   "cell_type": "markdown",
   "metadata": {},
   "source": [
    "If you look at the jmeter plan attached in the repo, you will find that I have ran the app with 20 users, than 30 and so on and I have run it for maximum time with 100 users, hence we are getting skewed data. Generally for users also we would have a mean value with maximum occurence. And properties like threads etc. will follow a simmilar pattern. But for this example I am not considering threads.\n",
    "\n",
    "So for the time being we are going to work with mem_free, heap_used and response_time."
   ]
  },
  {
   "cell_type": "markdown",
   "metadata": {},
   "source": [
    "For calculating probability of a data row(an actuator instance) we have two methods.\n",
    "1) Probability of a given mem_free will be \n",
    "(1/√2*√Π*σ)*e^(-(x-μ)/(2*σ^2)) \n",
    "where x is mem_free, μ is mean of all mem_free values, and σ is variance.\n",
    "So to calculate probability of a given actuator metrics result we will need P(mem_free)*P(heap_used)*P(response).\n",
    "The problem with this method is it does not consider relation between multiple variables.\n",
    "Hence we are going to use multivariate normal distribution\n",
    "P(actuator result) = (1/((2Π)^n/2)*|∑|)*e^(-.5*(x-μ)′*∑^-1*(x-μ))\n",
    "where ∑ = covariance matrix, |∑| = detrminant of covariance matrix, μ= vector with all means for all datapoints, n= number of datapoints(in our case 3)\n",
    "Lets write methods to calculate mean, variance, covariance matrix and probability."
   ]
  },
  {
   "cell_type": "code",
   "execution_count": 22,
   "metadata": {},
   "outputs": [],
   "source": [
    "def getMeanAndVariance(X):\n",
    "    (m,n) = X.shape\n",
    "    # initializing mu(mean) and sigma2(variance)\n",
    "    mu = np.zeros((n,1))\n",
    "    sigma2 = np.zeros((n,1))\n",
    "    # mean\n",
    "    mu = np.sum(X, axis=0)/m\n",
    "    tempSigma = X - mu\n",
    "    tempSigma2 = np.power(tempSigma, 2)\n",
    "    sigma2 = np.sum(tempSigma2, axis=0)/m\n",
    "    return (mu, sigma2)"
   ]
  },
  {
   "cell_type": "code",
   "execution_count": 23,
   "metadata": {},
   "outputs": [],
   "source": [
    "def getCovariance(X):\n",
    "    return np.cov(X, rowvar=False)"
   ]
  },
  {
   "cell_type": "code",
   "execution_count": 31,
   "metadata": {},
   "outputs": [],
   "source": [
    "def calculateProbabilities(X, mean, cov):\n",
    "    var = multivariate_normal(mean, cov, allow_singular=True)\n",
    "    p = np.zeros(len(X))\n",
    "    for i in range(len(X)):\n",
    "        p[i] = var.pdf(X[i])\n",
    "    return p"
   ]
  },
  {
   "cell_type": "markdown",
   "metadata": {},
   "source": [
    "Let's calulate probability for all entries."
   ]
  },
  {
   "cell_type": "code",
   "execution_count": 32,
   "metadata": {},
   "outputs": [
    {
     "name": "stdout",
     "output_type": "stream",
     "text": [
      "[2.45907277e+05 8.56634519e+04 1.88575520e+05 6.55360000e+04\n",
      " 1.02913583e+05 9.13920000e+05 6.03781818e+04 2.49600000e+03\n",
      " 5.74433786e+04 8.38808473e+01 8.88808473e+01 6.19567520e+01\n",
      " 6.22587820e+03 6.26780229e+03 1.77843883e+04 8.60245481e+04\n",
      " 3.13089144e+01 1.09414440e+04 3.69796999e+01]\n",
      "[[ 8.46113390e+09  4.54940540e+09  8.44672055e+09  0.00000000e+00\n",
      "   3.89724577e+09  0.00000000e+00 -3.79262800e+06  0.00000000e+00\n",
      "  -1.30583527e+07 -1.50893461e+06 -1.50893461e+06 -1.22169167e+06\n",
      "   1.14371632e+06 -1.05329840e+04 -6.00077927e+08 -2.74821328e+09\n",
      "  -8.91456056e+05 -3.50103498e+08 -6.58948202e+05]\n",
      " [ 4.54940540e+09  4.38002251e+09  4.54841080e+09  0.00000000e+00\n",
      "   1.68329015e+08  0.00000000e+00 -2.10557655e+06  0.00000000e+00\n",
      "  -6.96608547e+06 -8.00086778e+05 -8.00086778e+05 -7.31220926e+05\n",
      "   6.01347757e+05 -9.04620475e+03 -3.22208591e+08 -1.47106091e+09\n",
      "  -4.64300106e+05 -1.85581130e+08 -3.94490201e+05]\n",
      " [ 8.44672055e+09  4.54841080e+09  8.44673149e+09  0.00000000e+00\n",
      "   3.89825104e+09  0.00000000e+00 -3.87668045e+06  0.00000000e+00\n",
      "  -1.32416225e+07 -1.52384269e+06 -1.52384269e+06 -1.22823089e+06\n",
      "   1.14402691e+06 -1.75388088e+04 -6.04960827e+08 -2.77167945e+09\n",
      "  -9.00964431e+05 -3.52625545e+08 -6.56745762e+05]\n",
      " [ 0.00000000e+00  0.00000000e+00  0.00000000e+00  0.00000000e+00\n",
      "   0.00000000e+00  0.00000000e+00  0.00000000e+00  0.00000000e+00\n",
      "   0.00000000e+00  0.00000000e+00  0.00000000e+00  0.00000000e+00\n",
      "   0.00000000e+00  0.00000000e+00  0.00000000e+00  0.00000000e+00\n",
      "   0.00000000e+00  0.00000000e+00  0.00000000e+00]\n",
      " [ 3.89724577e+09  1.68329015e+08  3.89825104e+09  0.00000000e+00\n",
      "   3.72991176e+09  0.00000000e+00 -1.77109580e+06  0.00000000e+00\n",
      "  -6.27555131e+06 -7.23763099e+05 -7.23763099e+05 -4.96978601e+05\n",
      "   5.42668282e+05 -8.49210805e+03 -2.82753085e+08 -1.30062569e+09\n",
      "  -4.36674572e+05 -1.67044028e+08 -2.62237589e+05]\n",
      " [ 0.00000000e+00  0.00000000e+00  0.00000000e+00  0.00000000e+00\n",
      "   0.00000000e+00  0.00000000e+00  0.00000000e+00  0.00000000e+00\n",
      "   0.00000000e+00  0.00000000e+00  0.00000000e+00  0.00000000e+00\n",
      "   0.00000000e+00  0.00000000e+00  0.00000000e+00  0.00000000e+00\n",
      "   0.00000000e+00  0.00000000e+00  0.00000000e+00]\n",
      " [-3.79262800e+06 -2.10557655e+06 -3.87668045e+06  0.00000000e+00\n",
      "  -1.77109580e+06  0.00000000e+00  1.66936383e+04  0.00000000e+00\n",
      "   2.39290459e+04  4.53690331e+03  4.53690331e+03  1.42492130e+03\n",
      "  -9.17105043e+02  4.71737873e+01  1.52785148e+06  7.37353123e+06\n",
      "   3.32767877e+03  5.91995045e+05  5.17097334e+02]\n",
      " [ 0.00000000e+00  0.00000000e+00  0.00000000e+00  0.00000000e+00\n",
      "   0.00000000e+00  0.00000000e+00  0.00000000e+00  0.00000000e+00\n",
      "   0.00000000e+00  0.00000000e+00  0.00000000e+00  0.00000000e+00\n",
      "   0.00000000e+00  0.00000000e+00  0.00000000e+00  0.00000000e+00\n",
      "   0.00000000e+00  0.00000000e+00  0.00000000e+00]\n",
      " [-1.30583527e+07 -6.96608547e+06 -1.32416225e+07  0.00000000e+00\n",
      "  -6.27555131e+06  0.00000000e+00  2.39290459e+04  0.00000000e+00\n",
      "   5.73246630e+04  8.55355487e+03  8.55355487e+03  2.63405438e+03\n",
      "  -2.53131603e+03  1.01603194e+02  2.91843288e+06  1.39965512e+07\n",
      "   6.12232021e+03  1.30765584e+06  8.16181721e+02]\n",
      " [-1.50893461e+06 -8.00086778e+05 -1.52384269e+06  0.00000000e+00\n",
      "  -7.23763099e+05  0.00000000e+00  4.53690331e+03  0.00000000e+00\n",
      "   8.55355487e+03  1.61642130e+03  1.61642130e+03  2.75255443e+02\n",
      "  -3.84290144e+02  1.05506270e+01  5.06538723e+05  2.48602696e+06\n",
      "   1.16901564e+03  2.15123570e+05  2.46822080e+01]\n",
      " [-1.50893461e+06 -8.00086778e+05 -1.52384269e+06  0.00000000e+00\n",
      "  -7.23763099e+05  0.00000000e+00  4.53690331e+03  0.00000000e+00\n",
      "   8.55355487e+03  1.61642130e+03  1.61642130e+03  2.75255443e+02\n",
      "  -3.84290144e+02  1.05506270e+01  5.06538723e+05  2.48602696e+06\n",
      "   1.16901564e+03  2.15123570e+05  2.46822080e+01]\n",
      " [-1.22169167e+06 -7.31220926e+05 -1.22823089e+06  0.00000000e+00\n",
      "  -4.96978601e+05  0.00000000e+00  1.42492130e+03  0.00000000e+00\n",
      "   2.63405438e+03  2.75255443e+02  2.75255443e+02  1.08621456e+03\n",
      "  -2.11415166e+02  6.21229015e+00  1.41803004e+05  6.00503050e+05\n",
      "   1.22508071e+02  6.41184000e+04  6.82540641e+02]\n",
      " [ 1.14371632e+06  6.01347757e+05  1.14402691e+06  0.00000000e+00\n",
      "   5.42668282e+05  0.00000000e+00 -9.17105043e+02  0.00000000e+00\n",
      "  -2.53131603e+03 -3.84290144e+02 -3.84290144e+02 -2.11415166e+02\n",
      "   3.25831441e+02 -4.74671671e+00 -1.32164758e+05 -6.29086790e+05\n",
      "  -2.31177889e+02 -8.31369812e+04 -9.63204959e+01]\n",
      " [-1.05329840e+04 -9.04620475e+03 -1.75388088e+04  0.00000000e+00\n",
      "  -8.49210805e+03  0.00000000e+00  4.71737873e+01  0.00000000e+00\n",
      "   1.01603194e+02  1.05506270e+01  1.05506270e+01  6.21229015e+00\n",
      "  -4.74671671e+00  3.54921734e+00  3.39792137e+03  1.63025343e+04\n",
      "   5.85971451e+00  2.10556488e+03  5.11884081e-01]\n",
      " [-6.00077927e+08 -3.22208591e+08 -6.04960827e+08  0.00000000e+00\n",
      "  -2.82753085e+08  0.00000000e+00  1.52785148e+06  0.00000000e+00\n",
      "   2.91843288e+06  5.06538723e+05  5.06538723e+05  1.41803004e+05\n",
      "  -1.32164758e+05  3.39792137e+03  1.70805264e+08  8.23440248e+08\n",
      "   3.68458506e+05  7.19385131e+07  4.30893489e+04]\n",
      " [-2.74821328e+09 -1.47106091e+09 -2.77167945e+09  0.00000000e+00\n",
      "  -1.30062569e+09  0.00000000e+00  7.37353123e+06  0.00000000e+00\n",
      "   1.39965512e+07  2.48602696e+06  2.48602696e+06  6.00503050e+05\n",
      "  -6.29086790e+05  1.63025343e+04  8.23440248e+08  3.99167393e+09\n",
      "   1.81334243e+06  3.47164865e+08  1.47645699e+05]\n",
      " [-8.91456056e+05 -4.64300106e+05 -9.00964431e+05  0.00000000e+00\n",
      "  -4.36674572e+05  0.00000000e+00  3.32767877e+03  0.00000000e+00\n",
      "   6.12232021e+03  1.16901564e+03  1.16901564e+03  1.22508071e+02\n",
      "  -2.31177889e+02  5.85971451e+00  3.68458506e+05  1.81334243e+06\n",
      "   8.72397420e+02  1.50019390e+05 -3.32808259e+01]\n",
      " [-3.50103498e+08 -1.85581130e+08 -3.52625545e+08  0.00000000e+00\n",
      "  -1.67044028e+08  0.00000000e+00  5.91995045e+05  0.00000000e+00\n",
      "   1.30765584e+06  2.15123570e+05  2.15123570e+05  6.41184000e+04\n",
      "  -8.31369812e+04  2.10556488e+03  7.19385131e+07  3.47164865e+08\n",
      "   1.50019390e+05  3.47879529e+07  1.98972440e+04]\n",
      " [-6.58948202e+05 -3.94490201e+05 -6.56745762e+05  0.00000000e+00\n",
      "  -2.62237589e+05  0.00000000e+00  5.17097334e+02  0.00000000e+00\n",
      "   8.16181721e+02  2.46822080e+01  2.46822080e+01  6.82540641e+02\n",
      "  -9.63204959e+01  5.11884081e-01  4.30893489e+04  1.47645699e+05\n",
      "  -3.32808259e+01  1.98972440e+04  7.42203651e+02]]\n",
      "[2.48916929e-284 2.00838436e-050 1.48874837e-054 ... 3.19743758e-040\n",
      " 1.02846189e-039 1.02819079e-039]\n"
     ]
    }
   ],
   "source": [
    "(mean, var1) = getMeanAndVariance(X)\n",
    "cov = getCovariance(X)\n",
    "p = calculateProbabilities(X, mean, cov)\n",
    "print (mean)\n",
    "print (cov)\n",
    "print (p)"
   ]
  },
  {
   "cell_type": "code",
   "execution_count": null,
   "metadata": {},
   "outputs": [],
   "source": []
  }
 ],
 "metadata": {
  "kernelspec": {
   "display_name": "Python 3",
   "language": "python",
   "name": "python3"
  },
  "language_info": {
   "codemirror_mode": {
    "name": "ipython",
    "version": 3
   },
   "file_extension": ".py",
   "mimetype": "text/x-python",
   "name": "python",
   "nbconvert_exporter": "python",
   "pygments_lexer": "ipython3",
   "version": "3.6.8"
  }
 },
 "nbformat": 4,
 "nbformat_minor": 2
}
